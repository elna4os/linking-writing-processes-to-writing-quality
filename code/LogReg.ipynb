{
 "cells": [
  {
   "cell_type": "code",
   "execution_count": 1,
   "metadata": {},
   "outputs": [],
   "source": [
    "import pandas as pd\n",
    "from data import prepare_data"
   ]
  },
  {
   "cell_type": "code",
   "execution_count": 2,
   "metadata": {},
   "outputs": [
    {
     "data": {
      "text/plain": [
       "((8405898, 11), (2471, 2), (6, 11))"
      ]
     },
     "execution_count": 2,
     "metadata": {},
     "output_type": "execute_result"
    }
   ],
   "source": [
    "df_logs = pd.read_csv('../input/linking-writing-processes-to-writing-quality/train_logs.csv')\n",
    "df_logs_test = pd.read_csv('../input/linking-writing-processes-to-writing-quality/test_logs.csv')\n",
    "df_labels = pd.read_csv('../input/linking-writing-processes-to-writing-quality/train_scores.csv')\n",
    "df_logs.shape, df_labels.shape, df_logs_test.shape"
   ]
  },
  {
   "cell_type": "code",
   "execution_count": 3,
   "metadata": {},
   "outputs": [
    {
     "name": "stderr",
     "output_type": "stream",
     "text": [
      "100%|██████████| 2471/2471 [00:03<00:00, 703.29it/s]\n"
     ]
    }
   ],
   "source": [
    "df_agg = prepare_data(df=df_logs, labels=df_labels)"
   ]
  },
  {
   "cell_type": "code",
   "execution_count": 4,
   "metadata": {},
   "outputs": [
    {
     "data": {
      "text/plain": [
       "(2471, 13)"
      ]
     },
     "execution_count": 4,
     "metadata": {},
     "output_type": "execute_result"
    }
   ],
   "source": [
    "df_agg.shape"
   ]
  },
  {
   "cell_type": "code",
   "execution_count": 5,
   "metadata": {},
   "outputs": [
    {
     "data": {
      "text/html": [
       "<div>\n",
       "<style scoped>\n",
       "    .dataframe tbody tr th:only-of-type {\n",
       "        vertical-align: middle;\n",
       "    }\n",
       "\n",
       "    .dataframe tbody tr th {\n",
       "        vertical-align: top;\n",
       "    }\n",
       "\n",
       "    .dataframe thead th {\n",
       "        text-align: right;\n",
       "    }\n",
       "</style>\n",
       "<table border=\"1\" class=\"dataframe\">\n",
       "  <thead>\n",
       "    <tr style=\"text-align: right;\">\n",
       "      <th></th>\n",
       "      <th>id</th>\n",
       "      <th>action_time_max_log</th>\n",
       "      <th>action_time_mean_log</th>\n",
       "      <th>action_time_std_log</th>\n",
       "      <th>nonproduction</th>\n",
       "      <th>input</th>\n",
       "      <th>remove/cut</th>\n",
       "      <th>paste</th>\n",
       "      <th>replace</th>\n",
       "      <th>move</th>\n",
       "      <th>alphanum</th>\n",
       "      <th>other</th>\n",
       "      <th>score</th>\n",
       "    </tr>\n",
       "  </thead>\n",
       "  <tbody>\n",
       "    <tr>\n",
       "      <th>0</th>\n",
       "      <td>001519c8</td>\n",
       "      <td>7.723120</td>\n",
       "      <td>4.764281</td>\n",
       "      <td>4.530418</td>\n",
       "      <td>0.046930</td>\n",
       "      <td>0.786077</td>\n",
       "      <td>0.163082</td>\n",
       "      <td>0.000000</td>\n",
       "      <td>0.002738</td>\n",
       "      <td>0.001173</td>\n",
       "      <td>0.758702</td>\n",
       "      <td>0.241298</td>\n",
       "      <td>3.5</td>\n",
       "    </tr>\n",
       "    <tr>\n",
       "      <th>1</th>\n",
       "      <td>0022f953</td>\n",
       "      <td>7.472501</td>\n",
       "      <td>4.729344</td>\n",
       "      <td>4.033022</td>\n",
       "      <td>0.103504</td>\n",
       "      <td>0.789731</td>\n",
       "      <td>0.105949</td>\n",
       "      <td>0.000407</td>\n",
       "      <td>0.000407</td>\n",
       "      <td>0.000000</td>\n",
       "      <td>0.691932</td>\n",
       "      <td>0.308068</td>\n",
       "      <td>3.5</td>\n",
       "    </tr>\n",
       "    <tr>\n",
       "      <th>2</th>\n",
       "      <td>0042269b</td>\n",
       "      <td>8.008366</td>\n",
       "      <td>4.633153</td>\n",
       "      <td>4.423454</td>\n",
       "      <td>0.042311</td>\n",
       "      <td>0.849855</td>\n",
       "      <td>0.106141</td>\n",
       "      <td>0.000000</td>\n",
       "      <td>0.001692</td>\n",
       "      <td>0.000000</td>\n",
       "      <td>0.787476</td>\n",
       "      <td>0.212524</td>\n",
       "      <td>6.0</td>\n",
       "    </tr>\n",
       "    <tr>\n",
       "      <th>3</th>\n",
       "      <td>0059420b</td>\n",
       "      <td>6.693324</td>\n",
       "      <td>4.810950</td>\n",
       "      <td>4.742915</td>\n",
       "      <td>0.063625</td>\n",
       "      <td>0.838046</td>\n",
       "      <td>0.097044</td>\n",
       "      <td>0.000643</td>\n",
       "      <td>0.000643</td>\n",
       "      <td>0.000000</td>\n",
       "      <td>0.736504</td>\n",
       "      <td>0.263496</td>\n",
       "      <td>2.0</td>\n",
       "    </tr>\n",
       "    <tr>\n",
       "      <th>4</th>\n",
       "      <td>0075873a</td>\n",
       "      <td>6.553933</td>\n",
       "      <td>4.827865</td>\n",
       "      <td>4.144436</td>\n",
       "      <td>0.028447</td>\n",
       "      <td>0.767286</td>\n",
       "      <td>0.204267</td>\n",
       "      <td>0.000000</td>\n",
       "      <td>0.000000</td>\n",
       "      <td>0.000000</td>\n",
       "      <td>0.775978</td>\n",
       "      <td>0.224022</td>\n",
       "      <td>4.0</td>\n",
       "    </tr>\n",
       "    <tr>\n",
       "      <th>5</th>\n",
       "      <td>0081af50</td>\n",
       "      <td>7.005789</td>\n",
       "      <td>4.411638</td>\n",
       "      <td>3.729375</td>\n",
       "      <td>0.034374</td>\n",
       "      <td>0.811398</td>\n",
       "      <td>0.152872</td>\n",
       "      <td>0.000000</td>\n",
       "      <td>0.001357</td>\n",
       "      <td>0.000000</td>\n",
       "      <td>0.783356</td>\n",
       "      <td>0.216644</td>\n",
       "      <td>2.0</td>\n",
       "    </tr>\n",
       "    <tr>\n",
       "      <th>6</th>\n",
       "      <td>0093f095</td>\n",
       "      <td>6.218600</td>\n",
       "      <td>4.706985</td>\n",
       "      <td>3.638068</td>\n",
       "      <td>0.019263</td>\n",
       "      <td>0.896884</td>\n",
       "      <td>0.083853</td>\n",
       "      <td>0.000000</td>\n",
       "      <td>0.000000</td>\n",
       "      <td>0.000000</td>\n",
       "      <td>0.806799</td>\n",
       "      <td>0.193201</td>\n",
       "      <td>4.5</td>\n",
       "    </tr>\n",
       "    <tr>\n",
       "      <th>7</th>\n",
       "      <td>009e23ab</td>\n",
       "      <td>6.689599</td>\n",
       "      <td>4.519129</td>\n",
       "      <td>3.759686</td>\n",
       "      <td>0.065873</td>\n",
       "      <td>0.839354</td>\n",
       "      <td>0.094348</td>\n",
       "      <td>0.000000</td>\n",
       "      <td>0.000425</td>\n",
       "      <td>0.000000</td>\n",
       "      <td>0.728432</td>\n",
       "      <td>0.271568</td>\n",
       "      <td>4.0</td>\n",
       "    </tr>\n",
       "    <tr>\n",
       "      <th>8</th>\n",
       "      <td>00e048f1</td>\n",
       "      <td>6.419995</td>\n",
       "      <td>4.330883</td>\n",
       "      <td>3.533529</td>\n",
       "      <td>0.025868</td>\n",
       "      <td>0.899685</td>\n",
       "      <td>0.074448</td>\n",
       "      <td>0.000000</td>\n",
       "      <td>0.000000</td>\n",
       "      <td>0.000000</td>\n",
       "      <td>0.782334</td>\n",
       "      <td>0.217666</td>\n",
       "      <td>3.5</td>\n",
       "    </tr>\n",
       "    <tr>\n",
       "      <th>9</th>\n",
       "      <td>00e1f05a</td>\n",
       "      <td>9.307286</td>\n",
       "      <td>4.546939</td>\n",
       "      <td>5.297801</td>\n",
       "      <td>0.029134</td>\n",
       "      <td>0.785203</td>\n",
       "      <td>0.184769</td>\n",
       "      <td>0.000000</td>\n",
       "      <td>0.000894</td>\n",
       "      <td>0.000000</td>\n",
       "      <td>0.778559</td>\n",
       "      <td>0.221441</td>\n",
       "      <td>4.5</td>\n",
       "    </tr>\n",
       "  </tbody>\n",
       "</table>\n",
       "</div>"
      ],
      "text/plain": [
       "         id  action_time_max_log  action_time_mean_log  action_time_std_log  \\\n",
       "0  001519c8             7.723120              4.764281             4.530418   \n",
       "1  0022f953             7.472501              4.729344             4.033022   \n",
       "2  0042269b             8.008366              4.633153             4.423454   \n",
       "3  0059420b             6.693324              4.810950             4.742915   \n",
       "4  0075873a             6.553933              4.827865             4.144436   \n",
       "5  0081af50             7.005789              4.411638             3.729375   \n",
       "6  0093f095             6.218600              4.706985             3.638068   \n",
       "7  009e23ab             6.689599              4.519129             3.759686   \n",
       "8  00e048f1             6.419995              4.330883             3.533529   \n",
       "9  00e1f05a             9.307286              4.546939             5.297801   \n",
       "\n",
       "   nonproduction     input  remove/cut     paste   replace      move  \\\n",
       "0       0.046930  0.786077    0.163082  0.000000  0.002738  0.001173   \n",
       "1       0.103504  0.789731    0.105949  0.000407  0.000407  0.000000   \n",
       "2       0.042311  0.849855    0.106141  0.000000  0.001692  0.000000   \n",
       "3       0.063625  0.838046    0.097044  0.000643  0.000643  0.000000   \n",
       "4       0.028447  0.767286    0.204267  0.000000  0.000000  0.000000   \n",
       "5       0.034374  0.811398    0.152872  0.000000  0.001357  0.000000   \n",
       "6       0.019263  0.896884    0.083853  0.000000  0.000000  0.000000   \n",
       "7       0.065873  0.839354    0.094348  0.000000  0.000425  0.000000   \n",
       "8       0.025868  0.899685    0.074448  0.000000  0.000000  0.000000   \n",
       "9       0.029134  0.785203    0.184769  0.000000  0.000894  0.000000   \n",
       "\n",
       "   alphanum     other  score  \n",
       "0  0.758702  0.241298    3.5  \n",
       "1  0.691932  0.308068    3.5  \n",
       "2  0.787476  0.212524    6.0  \n",
       "3  0.736504  0.263496    2.0  \n",
       "4  0.775978  0.224022    4.0  \n",
       "5  0.783356  0.216644    2.0  \n",
       "6  0.806799  0.193201    4.5  \n",
       "7  0.728432  0.271568    4.0  \n",
       "8  0.782334  0.217666    3.5  \n",
       "9  0.778559  0.221441    4.5  "
      ]
     },
     "execution_count": 5,
     "metadata": {},
     "output_type": "execute_result"
    }
   ],
   "source": [
    "df_agg.head(n=10)"
   ]
  },
  {
   "cell_type": "code",
   "execution_count": 6,
   "metadata": {},
   "outputs": [
    {
     "data": {
      "text/plain": [
       "Index(['action_time_max_log', 'action_time_mean_log', 'action_time_std_log',\n",
       "       'nonproduction', 'input', 'remove/cut', 'paste', 'replace', 'move',\n",
       "       'alphanum', 'other'],\n",
       "      dtype='object')"
      ]
     },
     "execution_count": 6,
     "metadata": {},
     "output_type": "execute_result"
    }
   ],
   "source": [
    "columns = df_agg.columns\n",
    "features_names = columns[1:-1]\n",
    "features_names"
   ]
  },
  {
   "cell_type": "code",
   "execution_count": 7,
   "metadata": {},
   "outputs": [
    {
     "data": {
      "text/plain": [
       "((2471, 11), (2471,))"
      ]
     },
     "execution_count": 7,
     "metadata": {},
     "output_type": "execute_result"
    }
   ],
   "source": [
    "X = df_agg[features_names].values\n",
    "y = df_agg['score'].values\n",
    "X.shape, y.shape"
   ]
  },
  {
   "cell_type": "code",
   "execution_count": null,
   "metadata": {},
   "outputs": [],
   "source": []
  }
 ],
 "metadata": {
  "kernelspec": {
   "display_name": "ml",
   "language": "python",
   "name": "python3"
  },
  "language_info": {
   "codemirror_mode": {
    "name": "ipython",
    "version": 3
   },
   "file_extension": ".py",
   "mimetype": "text/x-python",
   "name": "python",
   "nbconvert_exporter": "python",
   "pygments_lexer": "ipython3",
   "version": "3.8.16"
  }
 },
 "nbformat": 4,
 "nbformat_minor": 2
}
